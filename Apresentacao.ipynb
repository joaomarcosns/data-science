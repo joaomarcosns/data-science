{
  "nbformat": 4,
  "nbformat_minor": 0,
  "metadata": {
    "colab": {
      "name": "Apresentacao.ipynb",
      "provenance": [],
      "collapsed_sections": []
    },
    "kernelspec": {
      "name": "python3",
      "display_name": "Python 3"
    },
    "language_info": {
      "name": "python"
    }
  },
  "cells": [
    {
      "cell_type": "markdown",
      "metadata": {
        "id": "BEWRxQSmmgzK"
      },
      "source": [
        "# **imports**"
      ]
    },
    {
      "cell_type": "markdown",
      "metadata": {
        "id": "HVmN0zrryrVb"
      },
      "source": [
        ""
      ]
    },
    {
      "cell_type": "code",
      "metadata": {
        "id": "FkRyATgimnTF"
      },
      "source": [
        "import pandas as pd"
      ],
      "execution_count": 6,
      "outputs": []
    },
    {
      "cell_type": "markdown",
      "metadata": {
        "id": "fbCLOiVbk0UU"
      },
      "source": [
        "# **Importando os dados**"
      ]
    },
    {
      "cell_type": "markdown",
      "metadata": {
        "id": "EL9_fkrayuGZ"
      },
      "source": [
        "[Git das bases de dados](https://github.com/CSSEGISandData/COVID-19)"
      ]
    },
    {
      "cell_type": "code",
      "metadata": {
        "id": "ooeY1UC1Yh7w"
      },
      "source": [
        "df_mortes = pd.read_csv(\"https://raw.githubusercontent.com/CSSEGISandData/COVID-19/master/csse_covid_19_data/csse_covid_19_time_series/time_series_covid19_deaths_global.csv\")\n",
        "df_curados = pd.read_csv(\"https://raw.githubusercontent.com/CSSEGISandData/COVID-19/master/csse_covid_19_data/csse_covid_19_time_series/time_series_covid19_recovered_global.csv\")"
      ],
      "execution_count": 7,
      "outputs": []
    },
    {
      "cell_type": "code",
      "metadata": {
        "id": "xKImilp-YwHJ"
      },
      "source": [
        "df_mortes"
      ],
      "execution_count": null,
      "outputs": []
    },
    {
      "cell_type": "code",
      "metadata": {
        "id": "2dLwv93ihPkI"
      },
      "source": [
        "df_curados.head()"
      ],
      "execution_count": null,
      "outputs": []
    },
    {
      "cell_type": "code",
      "metadata": {
        "id": "eBcBeenkz32L"
      },
      "source": [
        "df_mortes.info()"
      ],
      "execution_count": null,
      "outputs": []
    },
    {
      "cell_type": "markdown",
      "metadata": {
        "id": "vmLwENtsjnbU"
      },
      "source": [
        "# **Tirados as colunas Lat e Long**"
      ]
    },
    {
      "cell_type": "code",
      "metadata": {
        "id": "NMffALSwY9M5"
      },
      "source": [
        "df_mortes = df_mortes.drop(columns=[\"Lat\", \"Long\"], axis=1)\n",
        "df_curados = df_curados.drop(columns=[\"Lat\", \"Long\"], axis=1)"
      ],
      "execution_count": 12,
      "outputs": []
    },
    {
      "cell_type": "code",
      "metadata": {
        "id": "lV1wtiiPlDwt"
      },
      "source": [
        "df_curados.head()"
      ],
      "execution_count": null,
      "outputs": []
    },
    {
      "cell_type": "markdown",
      "metadata": {
        "id": "1BkzEsvKj1w2"
      },
      "source": [
        "# **Reatirando colunas sem dados**"
      ]
    },
    {
      "cell_type": "code",
      "metadata": {
        "id": "_NT7YbPtZuyu"
      },
      "source": [
        "df_mortes = df_mortes.dropna(subset=[\"Country/Region\"])\n",
        "df_curados = df_curados.dropna(subset=[\"Country/Region\"])"
      ],
      "execution_count": 16,
      "outputs": []
    },
    {
      "cell_type": "code",
      "metadata": {
        "id": "WYBj0t28lG-k"
      },
      "source": [
        "df_curados.to_excel(\"teste.xlsx\")"
      ],
      "execution_count": 18,
      "outputs": []
    },
    {
      "cell_type": "markdown",
      "metadata": {
        "id": "TY_x0Q0CkG3A"
      },
      "source": [
        "# **Somando os Country/Region**"
      ]
    },
    {
      "cell_type": "code",
      "metadata": {
        "id": "QosQOyE1aMbN"
      },
      "source": [
        "df_mortes_sum = df_mortes.groupby(\"Country/Region\").sum()\n",
        "df_curados_sum = df_curados.groupby(\"Country/Region\").sum()"
      ],
      "execution_count": 19,
      "outputs": []
    },
    {
      "cell_type": "code",
      "metadata": {
        "id": "0xnq_GmhQaAy"
      },
      "source": [
        "df_curados_sum"
      ],
      "execution_count": null,
      "outputs": []
    },
    {
      "cell_type": "markdown",
      "metadata": {
        "id": "loJIXlJ7QV7S"
      },
      "source": [
        "Pegando o ultimo dia da banco de mortes"
      ]
    },
    {
      "cell_type": "code",
      "metadata": {
        "id": "_b_k9QpaMx3N"
      },
      "source": [
        "df_mortes_ultimo_dia = df_mortes.groupby(\"Country/Region\").sum()"
      ],
      "execution_count": 23,
      "outputs": []
    },
    {
      "cell_type": "code",
      "metadata": {
        "id": "cNsFbLlsQGCW"
      },
      "source": [
        "df_mortes_ultimo_dia =  df_mortes_ultimo_dia.iloc[:,-1]"
      ],
      "execution_count": null,
      "outputs": []
    },
    {
      "cell_type": "code",
      "metadata": {
        "id": "LXif3NxtPZRM",
        "colab": {
          "base_uri": "https://localhost:8080/"
        },
        "outputId": "09428af5-8738-4d86-c2d3-9b632e3ce961"
      },
      "source": [
        "df_mortes_ultimo_dia.describe()"
      ],
      "execution_count": 25,
      "outputs": [
        {
          "output_type": "execute_result",
          "data": {
            "text/plain": [
              "count       193.000000\n",
              "mean      19806.725389\n",
              "std       67901.182180\n",
              "min           0.000000\n",
              "25%         165.000000\n",
              "50%        1350.000000\n",
              "75%        8160.000000\n",
              "max      600285.000000\n",
              "Name: 6/15/21, dtype: float64"
            ]
          },
          "metadata": {
            "tags": []
          },
          "execution_count": 25
        }
      ]
    },
    {
      "cell_type": "code",
      "metadata": {
        "colab": {
          "base_uri": "https://localhost:8080/"
        },
        "id": "ymUcIZEKpr2u",
        "outputId": "1c909777-0d41-4b12-feaf-1ad1c7fbe80b"
      },
      "source": [
        "df_mortes_ultimo_dia.max()"
      ],
      "execution_count": 27,
      "outputs": [
        {
          "output_type": "execute_result",
          "data": {
            "text/plain": [
              "600285"
            ]
          },
          "metadata": {
            "tags": []
          },
          "execution_count": 27
        }
      ]
    },
    {
      "cell_type": "code",
      "metadata": {
        "id": "uHMxFk8JTy_z"
      },
      "source": [
        "df_mortes_ultimo_dia_maximo_paises = df_mortes_ultimo_dia.index\n",
        "df_mortes_ultimo_dia_maximo_mortes = df_mortes_ultimo_dia.values"
      ],
      "execution_count": 28,
      "outputs": []
    },
    {
      "cell_type": "markdown",
      "metadata": {
        "id": "esX-bi_GVx0k"
      },
      "source": [
        "Pegando o ultimo dia da banco de curados\n"
      ]
    },
    {
      "cell_type": "code",
      "metadata": {
        "id": "3SH6la3yV1Ht"
      },
      "source": [
        "df_curados_ultimo_dia = df_curados_sum.iloc[:,-1]"
      ],
      "execution_count": 30,
      "outputs": []
    },
    {
      "cell_type": "code",
      "metadata": {
        "id": "T2mucitmWDiE"
      },
      "source": [
        "df_curados_ultimo_dia_maximo_paises =  df_curados_ultimo_dia.index\n",
        "df_curados_ultimo_dia_maximo_curados = df_curados_ultimo_dia.values"
      ],
      "execution_count": 31,
      "outputs": []
    },
    {
      "cell_type": "code",
      "metadata": {
        "id": "lh5_yYzsWNL4"
      },
      "source": [
        "df_curados_ultimo_dia_maximo_curados"
      ],
      "execution_count": null,
      "outputs": []
    },
    {
      "cell_type": "markdown",
      "metadata": {
        "id": "BR7CWBy4kPtt"
      },
      "source": [
        "# **Pegandos dados do brasil**"
      ]
    },
    {
      "cell_type": "code",
      "metadata": {
        "id": "2Xpi-iOMalXN"
      },
      "source": [
        "df_mortes_sum_Brazil = df_mortes_sum.loc['Brazil']\n",
        "df_curados_sum_Brazil = df_curados_sum.loc['Brazil']"
      ],
      "execution_count": 33,
      "outputs": []
    },
    {
      "cell_type": "code",
      "metadata": {
        "id": "wYCnq8cilVuK"
      },
      "source": [
        "df_mortes_sum_Brazil.head()"
      ],
      "execution_count": null,
      "outputs": []
    },
    {
      "cell_type": "code",
      "metadata": {
        "id": "RmG7J__xzMV3",
        "colab": {
          "base_uri": "https://localhost:8080/"
        },
        "outputId": "fe499964-524a-4944-b033-41557fb23ca6"
      },
      "source": [
        "df_mortes_sum_Brazil.describe()"
      ],
      "execution_count": 35,
      "outputs": [
        {
          "output_type": "execute_result",
          "data": {
            "text/plain": [
              "count       511.000000\n",
              "mean     157960.759295\n",
              "std      138875.268081\n",
              "min           0.000000\n",
              "25%       27316.000000\n",
              "50%      145987.000000\n",
              "75%      231534.000000\n",
              "max      490696.000000\n",
              "Name: Brazil, dtype: float64"
            ]
          },
          "metadata": {
            "tags": []
          },
          "execution_count": 35
        }
      ]
    },
    {
      "cell_type": "markdown",
      "metadata": {
        "id": "ys1DwQlHkVfr"
      },
      "source": [
        "# **Pegando as datas e casos**"
      ]
    },
    {
      "cell_type": "code",
      "metadata": {
        "id": "DGICjSm2cQQ2"
      },
      "source": [
        "datas_mortes_brasil = df_mortes_sum_Brazil.index\n",
        "casos_mortes_brasil = df_mortes_sum_Brazil.values"
      ],
      "execution_count": 36,
      "outputs": []
    },
    {
      "cell_type": "code",
      "metadata": {
        "id": "KYoJ2Q3miGan"
      },
      "source": [
        "datas_curados_brasil = df_curados_sum_Brazil.index\n",
        "casos_curados_brasil = df_curados_sum_Brazil.values"
      ],
      "execution_count": 37,
      "outputs": []
    },
    {
      "cell_type": "code",
      "metadata": {
        "id": "nIv6kedtcYuw",
        "colab": {
          "base_uri": "https://localhost:8080/"
        },
        "outputId": "3e684687-5323-4214-c790-414c90bfd10f"
      },
      "source": [
        "datas_mortes_brasil"
      ],
      "execution_count": 38,
      "outputs": [
        {
          "output_type": "execute_result",
          "data": {
            "text/plain": [
              "Index(['1/22/20', '1/23/20', '1/24/20', '1/25/20', '1/26/20', '1/27/20',\n",
              "       '1/28/20', '1/29/20', '1/30/20', '1/31/20',\n",
              "       ...\n",
              "       '6/6/21', '6/7/21', '6/8/21', '6/9/21', '6/10/21', '6/11/21', '6/12/21',\n",
              "       '6/13/21', '6/14/21', '6/15/21'],\n",
              "      dtype='object', length=511)"
            ]
          },
          "metadata": {
            "tags": []
          },
          "execution_count": 38
        }
      ]
    },
    {
      "cell_type": "code",
      "metadata": {
        "id": "Ij0-7Mamcazr",
        "colab": {
          "base_uri": "https://localhost:8080/"
        },
        "outputId": "b4bbf321-10c5-4763-d12d-8da877f20030"
      },
      "source": [
        "datas_curados_brasil"
      ],
      "execution_count": 39,
      "outputs": [
        {
          "output_type": "execute_result",
          "data": {
            "text/plain": [
              "Index(['1/22/20', '1/23/20', '1/24/20', '1/25/20', '1/26/20', '1/27/20',\n",
              "       '1/28/20', '1/29/20', '1/30/20', '1/31/20',\n",
              "       ...\n",
              "       '6/6/21', '6/7/21', '6/8/21', '6/9/21', '6/10/21', '6/11/21', '6/12/21',\n",
              "       '6/13/21', '6/14/21', '6/15/21'],\n",
              "      dtype='object', length=511)"
            ]
          },
          "metadata": {
            "tags": []
          },
          "execution_count": 39
        }
      ]
    },
    {
      "cell_type": "code",
      "metadata": {
        "id": "GhJwTg2ilovt"
      },
      "source": [
        "casos_curados_brasil"
      ],
      "execution_count": null,
      "outputs": []
    },
    {
      "cell_type": "code",
      "metadata": {
        "id": "255AUw8Clp1j"
      },
      "source": [
        "casos_mortes_brasil"
      ],
      "execution_count": null,
      "outputs": []
    },
    {
      "cell_type": "markdown",
      "metadata": {
        "id": "QQn6Oje0klmP"
      },
      "source": [
        "# **Retirando os dados com 0**"
      ]
    },
    {
      "cell_type": "code",
      "metadata": {
        "id": "XdVn81wtck5z"
      },
      "source": [
        "df_mortes_sum_Brazil = df_mortes_sum_Brazil[df_mortes_sum_Brazil > 0]\n",
        "df_curados_sum_Brazil = df_curados_sum_Brazil[df_curados_sum_Brazil > 0]\n"
      ],
      "execution_count": 41,
      "outputs": []
    },
    {
      "cell_type": "code",
      "metadata": {
        "id": "D6FkH-BMdBm4",
        "colab": {
          "base_uri": "https://localhost:8080/"
        },
        "outputId": "a7319754-5600-4675-aafe-9343102b9c5e"
      },
      "source": [
        "df_mortes_sum_Brazil.describe()"
      ],
      "execution_count": 43,
      "outputs": [
        {
          "output_type": "execute_result",
          "data": {
            "text/plain": [
              "count       456.000000\n",
              "mean     177013.043860\n",
              "std      135047.180428\n",
              "min           1.000000\n",
              "25%       68879.000000\n",
              "50%      159680.500000\n",
              "75%      246663.750000\n",
              "max      490696.000000\n",
              "Name: Brazil, dtype: float64"
            ]
          },
          "metadata": {
            "tags": []
          },
          "execution_count": 43
        }
      ]
    },
    {
      "cell_type": "code",
      "metadata": {
        "id": "cNYjhGrEXxy4"
      },
      "source": [
        "df_mortes_sum_Brazil"
      ],
      "execution_count": null,
      "outputs": []
    },
    {
      "cell_type": "code",
      "metadata": {
        "id": "O1B9FinwluRO"
      },
      "source": [
        "df_curados_sum_Brazil"
      ],
      "execution_count": null,
      "outputs": []
    },
    {
      "cell_type": "markdown",
      "metadata": {
        "id": "urc6DIA_l6zG"
      },
      "source": [
        "# **Atribuindo os novos valores das datas e casos > 0**"
      ]
    },
    {
      "cell_type": "code",
      "metadata": {
        "id": "Nawzc6-Bl7k2"
      },
      "source": [
        "datas_mortes_brasil = df_mortes_sum_Brazil.index\n",
        "casos_mortes_brasil = df_mortes_sum_Brazil.values"
      ],
      "execution_count": null,
      "outputs": []
    },
    {
      "cell_type": "code",
      "metadata": {
        "id": "Too4ptP5l8Ij"
      },
      "source": [
        "datas_curados_brasil = df_curados_sum_Brazil.index\n",
        "casos_curados_brasil = df_curados_sum_Brazil.values"
      ],
      "execution_count": null,
      "outputs": []
    },
    {
      "cell_type": "code",
      "metadata": {
        "id": "MU76oNHSCRQD"
      },
      "source": [
        "casos_curados_brasil"
      ],
      "execution_count": null,
      "outputs": []
    },
    {
      "cell_type": "code",
      "metadata": {
        "id": "OJ4wjylRIBxG"
      },
      "source": [
        "datas_curados_brasil"
      ],
      "execution_count": null,
      "outputs": []
    },
    {
      "cell_type": "markdown",
      "metadata": {
        "id": "yEZxnVXTkttS"
      },
      "source": [
        "# **Delimitando o tamnho dos dados em 30 dias**"
      ]
    },
    {
      "cell_type": "code",
      "metadata": {
        "id": "bU5xl3RcjM-d"
      },
      "source": [
        "tam = len(df_mortes_sum_Brazil)\n",
        "datas_curados_brasil_30_dias = datas_curados_brasil[tam-30:tam]\n",
        "casos_curados_brasil_30_dias = casos_curados_brasil[tam-30:tam]"
      ],
      "execution_count": 45,
      "outputs": []
    },
    {
      "cell_type": "code",
      "metadata": {
        "id": "iy9p90VMdKes"
      },
      "source": [
        "tam = len(df_curados_sum_Brazil)\n",
        "datas_mortes_brasil_30_dias = datas_mortes_brasil[tam-30:tam]\n",
        "casos_mortes_brasil_30_dias = casos_mortes_brasil[tam-30:tam]"
      ],
      "execution_count": 46,
      "outputs": []
    },
    {
      "cell_type": "code",
      "metadata": {
        "id": "obk7KYxYefRL",
        "colab": {
          "base_uri": "https://localhost:8080/"
        },
        "outputId": "83242dbd-84d2-4efa-9c0a-0480043fcd51"
      },
      "source": [
        "casos_mortes_brasil_30_dias"
      ],
      "execution_count": 47,
      "outputs": [
        {
          "output_type": "execute_result",
          "data": {
            "text/plain": [
              "array([300685, 303462, 307112, 310550, 312206, 313866, 317646, 321515,\n",
              "       325284, 328206, 330193, 331433, 332752, 336947, 340776, 345025,\n",
              "       348718, 351334, 353137, 354617, 358425, 361884, 365444, 368749,\n",
              "       371678, 373335, 374682, 378003, 381475, 383502])"
            ]
          },
          "metadata": {
            "tags": []
          },
          "execution_count": 47
        }
      ]
    },
    {
      "cell_type": "code",
      "metadata": {
        "id": "xngu-vXvBa8_",
        "colab": {
          "base_uri": "https://localhost:8080/"
        },
        "outputId": "41f4dce7-4666-4c84-823c-919551b2405e"
      },
      "source": [
        "casos_curados_brasil_30_dias"
      ],
      "execution_count": 48,
      "outputs": [
        {
          "output_type": "execute_result",
          "data": {
            "text/plain": [
              "array([10665161, 10750131, 10808499, 10886792, 10948382, 11004281,\n",
              "       11022192, 11085369, 11181371, 11240213, 11277632, 11327510,\n",
              "       11343607, 11405558, 11459548, 11592159, 11668734, 11722181,\n",
              "       11739649, 11878958, 11892229, 11975121, 12033880, 12084851,\n",
              "       12163831, 12212890, 12303538, 12346828, 12425791, 12436210])"
            ]
          },
          "metadata": {
            "tags": []
          },
          "execution_count": 48
        }
      ]
    },
    {
      "cell_type": "code",
      "metadata": {
        "id": "CMB_RF0CHC4I",
        "colab": {
          "base_uri": "https://localhost:8080/"
        },
        "outputId": "8fac43e7-e2e6-4d8f-f4cd-4ad1d151a3b9"
      },
      "source": [
        "datas_curados_brasil_30_dias"
      ],
      "execution_count": 49,
      "outputs": [
        {
          "output_type": "execute_result",
          "data": {
            "text/plain": [
              "Index(['3/23/21', '3/24/21', '3/25/21', '3/26/21', '3/27/21', '3/28/21',\n",
              "       '3/29/21', '3/30/21', '3/31/21', '4/1/21', '4/2/21', '4/3/21', '4/4/21',\n",
              "       '4/5/21', '4/6/21', '4/7/21', '4/8/21', '4/9/21', '4/10/21', '4/11/21',\n",
              "       '4/12/21', '4/13/21', '4/14/21', '4/15/21', '4/16/21', '4/17/21',\n",
              "       '4/18/21', '4/19/21', '4/20/21', '4/21/21'],\n",
              "      dtype='object')"
            ]
          },
          "metadata": {
            "tags": []
          },
          "execution_count": 49
        }
      ]
    },
    {
      "cell_type": "markdown",
      "metadata": {
        "id": "zQ25TuGuENZD"
      },
      "source": [
        "# **Importando o matplot para a criação de gráficos**"
      ]
    },
    {
      "cell_type": "code",
      "metadata": {
        "id": "UzIty0E_EEty"
      },
      "source": [
        "import matplotlib.pyplot as plt\n",
        "%matplotlib inline"
      ],
      "execution_count": null,
      "outputs": []
    },
    {
      "cell_type": "code",
      "metadata": {
        "id": "qnT3naSZJ8LO"
      },
      "source": [
        "!pip install seaborn"
      ],
      "execution_count": null,
      "outputs": []
    },
    {
      "cell_type": "code",
      "metadata": {
        "id": "6kftR9gbWmYT"
      },
      "source": [
        "import seaborn as sns"
      ],
      "execution_count": null,
      "outputs": []
    },
    {
      "cell_type": "code",
      "metadata": {
        "id": "PdNmIU3EEXPL"
      },
      "source": [
        "plt.figure(figsize=(25,5))\n",
        "plt.xticks(rotation=90)\n",
        "plt.title(\"Total de mortes por COVID no Brasil - Periodo 16/03/2020 a 15/06/2021\")\n",
        "plt.bar(datas_mortes_brasil, casos_mortes_brasil)"
      ],
      "execution_count": null,
      "outputs": []
    },
    {
      "cell_type": "code",
      "metadata": {
        "id": "vUfmvKdiKh9R"
      },
      "source": [
        "plt.figure(figsize=(25,5))\n",
        "plt.xticks(rotation=90)\n",
        "plt.title(\"Total de mortes por COVID no Brasil - Periodo 16/03/2020 a 13/06/2021\")\n",
        "plt.plot(datas_mortes_brasil, casos_mortes_brasil)"
      ],
      "execution_count": null,
      "outputs": []
    },
    {
      "cell_type": "code",
      "metadata": {
        "id": "r5QEXpXTI_rS"
      },
      "source": [
        "plt.figure(figsize=(25,5))\n",
        "plt.xticks(rotation=60)\n",
        "plt.title(\"Total de mortes por COVID no Brasil- Periodo 17/05 a 15/06 de 2021\")\n",
        "plt.stem(datas_mortes_brasil_30_dias, casos_mortes_brasil_30_dias)"
      ],
      "execution_count": null,
      "outputs": []
    },
    {
      "cell_type": "code",
      "metadata": {
        "id": "QDERvdyXUM3w"
      },
      "source": [
        "plt.figure(figsize=(25,5))\n",
        "plt.xticks(rotation=60)\n",
        "plt.title(\"Total de curados do COVID no Brasil- Periodo 15/05 a 16/06 de 2021\")\n",
        "plt.plot(datas_curados_brasil_30_dias, casos_curados_brasil_30_dias)"
      ],
      "execution_count": null,
      "outputs": []
    },
    {
      "cell_type": "code",
      "metadata": {
        "id": "20XX_iikW18A"
      },
      "source": [
        "df_mortes_ultimo_dia_maximo_paises"
      ],
      "execution_count": null,
      "outputs": []
    },
    {
      "cell_type": "code",
      "metadata": {
        "id": "Rn9SWKnrXquv"
      },
      "source": [
        "plt.figure(figsize=(25,7))\n",
        "plt.xticks(rotation=90)\n",
        "plt.title(\"Distribuição da quantidade de mortos por COVID nos países - Até 15/06/2021\")\n",
        "plt.stem(df_mortes_ultimo_dia_maximo_paises, df_mortes_ultimo_dia_maximo_mortes)"
      ],
      "execution_count": null,
      "outputs": []
    },
    {
      "cell_type": "code",
      "metadata": {
        "id": "jnbOSXeXcMiH"
      },
      "source": [
        "plt.figure(figsize=(25,5))\n",
        "plt.xticks(rotation=90)\n",
        "plt.title(\"Total de curados do COVID nos países - Até 15/06/2021\")\n",
        "plt.bar(df_curados_ultimo_dia_maximo_paises, df_curados_ultimo_dia_maximo_curados)"
      ],
      "execution_count": null,
      "outputs": []
    }
  ]
}